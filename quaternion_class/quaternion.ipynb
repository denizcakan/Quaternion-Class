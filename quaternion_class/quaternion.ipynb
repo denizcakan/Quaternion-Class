{
 "cells": [
  {
   "cell_type": "code",
   "execution_count": 1,
   "id": "3e00b734-a4be-4ddf-810e-99cb40cb9b3a",
   "metadata": {},
   "outputs": [],
   "source": [
    "import math"
   ]
  },
  {
   "cell_type": "code",
   "execution_count": 2,
   "id": "2a97ac0a-c4c9-4fbe-a340-4e97b75e2ab4",
   "metadata": {},
   "outputs": [],
   "source": [
    "# A quaternion is a vector such as a = (a0, a1, a2, a3). It has 3 variables.\n",
    "# Quaternion class contains private data fields which are a0, a1, a2 and a3.\n",
    "# If these data fields are not specified, they set as follows:\n",
    "# a0 = 0, a1 = 0, a2 = 0 and a3 = 0.\n",
    "# Class have __init__, __str__, getter, setter, four transactions, magnitude, conjugate and inverse methods.\n",
    "\n",
    "\n",
    "class Quaternion:\n",
    "    def __init__(self, xcoor=0, ycoor=0, zcoor=0, wcoor=0):\n",
    "        self.__a0 = xcoor\n",
    "        self.__a1 = ycoor\n",
    "        self.__a2 = zcoor\n",
    "        self.__a3 = wcoor\n",
    "\n",
    "    # Getter methods for 4 coordinates.\n",
    "\n",
    "    def getXcoor(self):\n",
    "        return self.__a0\n",
    "\n",
    "    def getYcoor(self):\n",
    "        return self.__a1\n",
    "\n",
    "    def getZcoor(self):\n",
    "        return self.__a2\n",
    "\n",
    "    def getWcoor(self):\n",
    "        return self.__a3\n",
    "\n",
    "    # Setter methods for 4 coordinates.\n",
    "\n",
    "    def setXcoor(self, new_xcoor):\n",
    "        self.__a0 = new_xcoor\n",
    "\n",
    "    def setYcoor(self, new_ycoor):\n",
    "        self.__a1 = new_ycoor\n",
    "\n",
    "    def setZcoor(self, new_zcoor):\n",
    "        self.__a2 = new_zcoor\n",
    "\n",
    "    def setWcoor(self, new_wcoor):\n",
    "        self.__a3 = new_wcoor\n",
    "\n",
    "    # Special method for magnitude calculations.\n",
    "    # This method can be called with \"abs()\".\n",
    "\n",
    "    def __abs__(self):\n",
    "        return math.sqrt(self.__a0**2 + self.__a1**2 + self.__a2**2 + self.__a3**2)\n",
    "\n",
    "    # Special method for addition.\n",
    "    # This method can be called with \"+ sign\".\n",
    "\n",
    "    def __add__(self, other):\n",
    "        sum = Quaternion()\n",
    "        sum.__a0 = self.__a0 + other.__a0\n",
    "        sum.__a1 = self.__a1 + other.__a1\n",
    "        sum.__a2 = self.__a2 + other.__a2\n",
    "        sum.__a3 = self.__a3 + other.__a3\n",
    "        return sum\n",
    "\n",
    "    # Special method for division.\n",
    "    # This method can be called with \"- sign\".\n",
    "\n",
    "    def __sub__(self, other):\n",
    "        diff = Quaternion()\n",
    "        diff.__a0 = self.__a0 - other.__a0\n",
    "        diff.__a1 = self.__a1 - other.__a1\n",
    "        diff.__a2 = self.__a2 - other.__a2\n",
    "        diff.__a3 = self.__a3 - other.__a3\n",
    "        return diff\n",
    "\n",
    "    # Special method for multiplication.\n",
    "    # This method can be called with \"* sign\".\n",
    "\n",
    "    def __mul__(self, other):\n",
    "        product = Quaternion()\n",
    "        product.__a0 = self.__a0*other.__a0 - self.__a1*other.__a1 - self.__a2*other.__a2 - self.__a3*other.__a3\n",
    "        product.__a1 = self.__a0*other.__a1 + self.__a1*other.__a0 + self.__a2*other.__a3 - self.__a3*other.__a2\n",
    "        product.__a2 = self.__a0*other.__a2 - self.__a1*other.__a3 + self.__a2*other.__a0 + self.__a3*other.__a1\n",
    "        product.__a3 = self.__a0*other.__a3 + self.__a1*other.__a2 - self.__a2*other.__a1 + self.__a3*other.__a0\n",
    "        return product\n",
    "\n",
    "    # A method for conjugate calculation.\n",
    "    # First variable of the quaternion stays the same. Method sets the remaining 3 elements as negative.\n",
    "\n",
    "    def conjugate(self):\n",
    "        conjugated = Quaternion()\n",
    "        conjugated.__a0 = self.__a0\n",
    "        conjugated.__a1 = - self.__a1\n",
    "        conjugated.__a2 = - self.__a2\n",
    "        conjugated.__a3 = - self.__a3\n",
    "        return conjugated\n",
    "\n",
    "    # A method for inverse calculation.\n",
    "    # Method starts with conjugate method.\n",
    "    # Then, method divides each element by the square of quaternion's magnitude.\n",
    "\n",
    "    def inverse(self):\n",
    "        inversed = self.conjugate()\n",
    "        inversed.__a0 /= abs(self) ** 2\n",
    "        inversed.__a1 /= abs(self) ** 2\n",
    "        inversed.__a2 /= abs(self) ** 2\n",
    "        inversed.__a3 /= abs(self) ** 2\n",
    "        return inversed\n",
    "\n",
    "    # Special method for multiplication.\n",
    "    # This method can be called with \"/ sign\".\n",
    "    # Method multiplies the first element with the inverse of the second element.\n",
    "\n",
    "    def __truediv__(self, other):\n",
    "        division = self * other.inverse()\n",
    "        return division\n",
    "\n",
    "    # The method returns a string with information about coordinates.\n",
    "    # For example: (0, 0, 0, 0)\n",
    "\n",
    "    def __str__(self):\n",
    "        s = \"(\" + str(self.__a0) + \", \" + str(self.__a1) + \", \" + str(self.__a2) + \", \" + str(self.__a3) + \")\"\n",
    "        return s"
   ]
  },
  {
   "cell_type": "code",
   "execution_count": 3,
   "id": "593a7885-9f47-440a-ad08-310ecab37c32",
   "metadata": {},
   "outputs": [
    {
     "name": "stdout",
     "output_type": "stream",
     "text": [
      "q0 = (0, 0, 0, 0)\n"
     ]
    }
   ],
   "source": [
    "# Test case for quaternions.\n",
    "# q0 is an unspecified quaternion. q0 = (0, 0, 0, 0)\n",
    "# Getter methods are called.\n",
    "\n",
    "q0 = Quaternion()\n",
    "print(\"q0 = \" + \"(\" + str(q0.getXcoor()) + \", \" + str(q0.getYcoor())\n",
    "      + \", \" + str(q0.getZcoor()) + \", \" + str(q0.getWcoor()) + \")\")"
   ]
  },
  {
   "cell_type": "code",
   "execution_count": 4,
   "id": "d7ed31a9-aade-4cb6-9440-927eb3170a28",
   "metadata": {},
   "outputs": [
    {
     "name": "stdout",
     "output_type": "stream",
     "text": [
      "q1 = (1, 2, 4, -2)\n",
      "|q1| = 5.0\n"
     ]
    }
   ],
   "source": [
    "# Firstly, q1 is an unspecified quaternion.\n",
    "# Then, it is set as (1, 2, 4, -2) with the help of setter methods.\n",
    "# Then, it calls __str__ method.\n",
    "# After that, it calls __abs__ method for magnitude calculation.\n",
    "\n",
    "q1 = Quaternion()\n",
    "q1.setXcoor(1), q1.setYcoor(2), q1.setZcoor(4), q1.setWcoor(-2)\n",
    "print(\"q1 = \" + str(q1))\n",
    "print(\"|q1| = \" + str(abs(q1)))"
   ]
  },
  {
   "cell_type": "code",
   "execution_count": 5,
   "id": "de2d078f-2241-40b6-9c66-8e6e50a56cc5",
   "metadata": {},
   "outputs": [
    {
     "name": "stdout",
     "output_type": "stream",
     "text": [
      "Inverse of q1 = (0.04, -0.08, -0.16, 0.08)\n"
     ]
    }
   ],
   "source": [
    "# Inverse of q1:\n",
    "q1_inverse = q1.inverse()\n",
    "print(\"Inverse of q1 = \" + str(q1_inverse))"
   ]
  },
  {
   "cell_type": "code",
   "execution_count": 6,
   "id": "321fe0c0-69af-4439-9879-6b6018c9d857",
   "metadata": {},
   "outputs": [
    {
     "name": "stdout",
     "output_type": "stream",
     "text": [
      "q2 = (0.5, 2, -5, 4)\n",
      "q3 = (0.5, -2, 5, -4) (q3 is conjugate of q2)\n",
      "q2 + q3 = (1.0, 0, 0, 0)\n",
      "q2 - q3 = (0.0, 4, -10, 8)\n"
     ]
    }
   ],
   "source": [
    "# q2 is quaternion. q2 = (0.5 , 2, -5, 4)\n",
    "# Conjugate of q2 is q3 and q3 is (0.5, -2, 5, -4)\n",
    "# Then, it adds them up with help of __add__ method and subtracts q3 from q2 with help of __sub__ method.\n",
    "# For these two methods \"+\" and \"-\" signs are used.\n",
    "\n",
    "q2 = Quaternion(0.5, 2, -5, 4)\n",
    "q3 = q2.conjugate()\n",
    "print(\"q2 = \" + str(q2))\n",
    "print(\"q3 = \" + str(q3) + \" (q3 is conjugate of q2)\")\n",
    "print(\"q2 + q3 = \" + str(q2 + q3))\n",
    "print(\"q2 - q3 = \" + str(q2 - q3))"
   ]
  },
  {
   "cell_type": "code",
   "execution_count": 7,
   "id": "e2a5fdce-3359-440f-aafb-59316c3f8fcf",
   "metadata": {},
   "outputs": [
    {
     "name": "stdout",
     "output_type": "stream",
     "text": [
      "q1 * q2 = (24.5, 9.0, -15.0, -15.0)\n",
      "q2 / q1 = (-0.9400000000000002, 0.27999999999999997, -0.76, -0.52)\n"
     ]
    }
   ],
   "source": [
    "# Multiplication of q1 and q2 with help of __mul__ method:\n",
    "print(\"q1 * q2 = \" + str(q1 * q2))\n",
    "\n",
    "# Quotient of q2 and q1 with help of __truediv__ method:\n",
    "print(\"q2 / q1 = \" + str(q2 / q1))"
   ]
  },
  {
   "cell_type": "code",
   "execution_count": null,
   "id": "c74dc2b8-5a2a-48f6-84d3-825c3af6d448",
   "metadata": {},
   "outputs": [],
   "source": []
  }
 ],
 "metadata": {
  "kernelspec": {
   "display_name": "Python 3 (ipykernel)",
   "language": "python",
   "name": "python3"
  },
  "language_info": {
   "codemirror_mode": {
    "name": "ipython",
    "version": 3
   },
   "file_extension": ".py",
   "mimetype": "text/x-python",
   "name": "python",
   "nbconvert_exporter": "python",
   "pygments_lexer": "ipython3",
   "version": "3.9.7"
  }
 },
 "nbformat": 4,
 "nbformat_minor": 5
}
